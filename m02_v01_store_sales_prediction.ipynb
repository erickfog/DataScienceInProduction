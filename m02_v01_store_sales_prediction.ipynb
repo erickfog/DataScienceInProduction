{
 "cells": [
  {
   "cell_type": "markdown",
   "metadata": {},
   "source": [
    "# 0.0 IMPORTS"
   ]
  },
  {
   "cell_type": "code",
   "execution_count": 58,
   "metadata": {
    "ExecuteTime": {
     "end_time": "2022-10-12T12:43:08.197696Z",
     "start_time": "2022-10-12T12:43:08.194597Z"
    }
   },
   "outputs": [],
   "source": [
    "import pandas as pd\n",
    "import numpy as np\n",
    "import seaborn as sns\n",
    "import inflection\n",
    "import math\n",
    "\n",
    "\n",
    "from matplotlib import pyplot as plt\n",
    "from IPython.core.display import HTML"
   ]
  },
  {
   "cell_type": "markdown",
   "metadata": {
    "ExecuteTime": {
     "end_time": "2022-10-08T14:14:19.049878Z",
     "start_time": "2022-10-08T14:14:19.047924Z"
    }
   },
   "source": [
    "## 0.1 Helper Functions"
   ]
  },
  {
   "cell_type": "code",
   "execution_count": 59,
   "metadata": {
    "ExecuteTime": {
     "end_time": "2022-10-12T12:43:09.539146Z",
     "start_time": "2022-10-12T12:43:09.531098Z"
    }
   },
   "outputs": [],
   "source": [
    "def jupyter_settings():\n",
    "    %matplotlib inline\n",
    "    %pylab inline\n",
    "    plt.style.use( 'bmh' )\n",
    "    plt.rcParams['figure.figsize'] = [25, 12]\n",
    "    plt.rcParams['font.size'] = 24\n",
    "    display( HTML( '<style>.container { width:100% !important; }</style>') )\n",
    "    pd.options.display.max_columns = None\n",
    "    pd.options.display.max_rows = None\n",
    "    pd.set_option( 'display.expand_frame_repr', False )\n",
    "    sns.set()"
   ]
  },
  {
   "cell_type": "code",
   "execution_count": 60,
   "metadata": {
    "ExecuteTime": {
     "end_time": "2022-10-12T12:43:10.481400Z",
     "start_time": "2022-10-12T12:43:10.474609Z"
    }
   },
   "outputs": [
    {
     "name": "stdout",
     "output_type": "stream",
     "text": [
      "Populating the interactive namespace from numpy and matplotlib\n"
     ]
    },
    {
     "data": {
      "text/html": [
       "<style>.container { width:100% !important; }</style>"
      ],
      "text/plain": [
       "<IPython.core.display.HTML object>"
      ]
     },
     "metadata": {},
     "output_type": "display_data"
    }
   ],
   "source": [
    "jupyter_settings()"
   ]
  },
  {
   "cell_type": "markdown",
   "metadata": {
    "ExecuteTime": {
     "end_time": "2022-10-08T14:14:44.019511Z",
     "start_time": "2022-10-08T14:14:44.017618Z"
    }
   },
   "source": [
    "## 0.2 Loading Data"
   ]
  },
  {
   "cell_type": "code",
   "execution_count": 19,
   "metadata": {
    "ExecuteTime": {
     "end_time": "2022-10-12T12:12:39.170919Z",
     "start_time": "2022-10-12T12:12:38.309572Z"
    }
   },
   "outputs": [],
   "source": [
    "df_sales_raw = pd.read_csv('data/train.csv' , low_memory=False)\n",
    "df_store_raw = pd.read_csv('data/store.csv' , low_memory=False)\n",
    "\n",
    "\n",
    "#merge\n",
    "df_raw = pd.merge(df_sales_raw , df_store_raw , how='left' , on='Store')"
   ]
  },
  {
   "cell_type": "code",
   "execution_count": 20,
   "metadata": {
    "ExecuteTime": {
     "end_time": "2022-10-12T12:12:40.828911Z",
     "start_time": "2022-10-12T12:12:40.652448Z"
    }
   },
   "outputs": [
    {
     "data": {
      "text/html": [
       "<div>\n",
       "<style scoped>\n",
       "    .dataframe tbody tr th:only-of-type {\n",
       "        vertical-align: middle;\n",
       "    }\n",
       "\n",
       "    .dataframe tbody tr th {\n",
       "        vertical-align: top;\n",
       "    }\n",
       "\n",
       "    .dataframe thead th {\n",
       "        text-align: right;\n",
       "    }\n",
       "</style>\n",
       "<table border=\"1\" class=\"dataframe\">\n",
       "  <thead>\n",
       "    <tr style=\"text-align: right;\">\n",
       "      <th></th>\n",
       "      <th>Store</th>\n",
       "      <th>DayOfWeek</th>\n",
       "      <th>Date</th>\n",
       "      <th>Sales</th>\n",
       "      <th>Customers</th>\n",
       "      <th>Open</th>\n",
       "      <th>Promo</th>\n",
       "      <th>StateHoliday</th>\n",
       "      <th>SchoolHoliday</th>\n",
       "      <th>StoreType</th>\n",
       "      <th>Assortment</th>\n",
       "      <th>CompetitionDistance</th>\n",
       "      <th>CompetitionOpenSinceMonth</th>\n",
       "      <th>CompetitionOpenSinceYear</th>\n",
       "      <th>Promo2</th>\n",
       "      <th>Promo2SinceWeek</th>\n",
       "      <th>Promo2SinceYear</th>\n",
       "      <th>PromoInterval</th>\n",
       "    </tr>\n",
       "  </thead>\n",
       "  <tbody>\n",
       "    <tr>\n",
       "      <th>986982</th>\n",
       "      <td>993</td>\n",
       "      <td>1</td>\n",
       "      <td>2013-01-28</td>\n",
       "      <td>6168</td>\n",
       "      <td>690</td>\n",
       "      <td>1</td>\n",
       "      <td>0</td>\n",
       "      <td>0</td>\n",
       "      <td>0</td>\n",
       "      <td>d</td>\n",
       "      <td>c</td>\n",
       "      <td>3460.0</td>\n",
       "      <td>10.0</td>\n",
       "      <td>2013.0</td>\n",
       "      <td>1</td>\n",
       "      <td>10.0</td>\n",
       "      <td>2014.0</td>\n",
       "      <td>Jan,Apr,Jul,Oct</td>\n",
       "    </tr>\n",
       "  </tbody>\n",
       "</table>\n",
       "</div>"
      ],
      "text/plain": [
       "        Store  DayOfWeek        Date  Sales  Customers  Open  Promo  \\\n",
       "986982    993          1  2013-01-28   6168        690     1      0   \n",
       "\n",
       "       StateHoliday  SchoolHoliday StoreType Assortment  CompetitionDistance  \\\n",
       "986982            0              0         d          c               3460.0   \n",
       "\n",
       "        CompetitionOpenSinceMonth  CompetitionOpenSinceYear  Promo2  \\\n",
       "986982                       10.0                    2013.0       1   \n",
       "\n",
       "        Promo2SinceWeek  Promo2SinceYear    PromoInterval  \n",
       "986982             10.0           2014.0  Jan,Apr,Jul,Oct  "
      ]
     },
     "execution_count": 20,
     "metadata": {},
     "output_type": "execute_result"
    }
   ],
   "source": [
    "df_raw.sample()"
   ]
  },
  {
   "cell_type": "markdown",
   "metadata": {},
   "source": [
    "# 1.0 DESCRICAO DOS DADOS"
   ]
  },
  {
   "cell_type": "code",
   "execution_count": 21,
   "metadata": {
    "ExecuteTime": {
     "end_time": "2022-10-12T12:12:59.691062Z",
     "start_time": "2022-10-12T12:12:59.657513Z"
    }
   },
   "outputs": [],
   "source": [
    "df1 = df_raw.copy()"
   ]
  },
  {
   "cell_type": "markdown",
   "metadata": {},
   "source": [
    "## 1.1 Rename Columns"
   ]
  },
  {
   "cell_type": "code",
   "execution_count": 22,
   "metadata": {
    "ExecuteTime": {
     "end_time": "2022-10-12T12:13:02.227012Z",
     "start_time": "2022-10-12T12:13:02.223233Z"
    }
   },
   "outputs": [
    {
     "data": {
      "text/plain": [
       "Index(['Store', 'DayOfWeek', 'Date', 'Sales', 'Customers', 'Open', 'Promo',\n",
       "       'StateHoliday', 'SchoolHoliday', 'StoreType', 'Assortment',\n",
       "       'CompetitionDistance', 'CompetitionOpenSinceMonth',\n",
       "       'CompetitionOpenSinceYear', 'Promo2', 'Promo2SinceWeek',\n",
       "       'Promo2SinceYear', 'PromoInterval'],\n",
       "      dtype='object')"
      ]
     },
     "execution_count": 22,
     "metadata": {},
     "output_type": "execute_result"
    }
   ],
   "source": [
    "df1.columns"
   ]
  },
  {
   "cell_type": "code",
   "execution_count": 23,
   "metadata": {
    "ExecuteTime": {
     "end_time": "2022-10-12T12:13:03.573504Z",
     "start_time": "2022-10-12T12:13:03.569248Z"
    }
   },
   "outputs": [],
   "source": [
    "cols_old = ['Store', 'DayOfWeek', 'Date', 'Sales', 'Customers', 'Open', 'Promo', 'StateHoliday', \n",
    "            'SchoolHoliday', 'StoreType', 'Assortment', 'CompetitionDistance', 'CompetitionOpenSinceMonth',\n",
    "       'CompetitionOpenSinceYear', 'Promo2', 'Promo2SinceWeek', 'Promo2SinceYear', 'PromoInterval']\n",
    "snakecase = lambda x: inflection.underscore(x)\n",
    "\n",
    "cols_new = list(map(snakecase,cols_old))\n",
    "\n",
    "df1.columns = cols_new"
   ]
  },
  {
   "cell_type": "code",
   "execution_count": 24,
   "metadata": {
    "ExecuteTime": {
     "end_time": "2022-10-12T12:13:18.841338Z",
     "start_time": "2022-10-12T12:13:18.837332Z"
    }
   },
   "outputs": [
    {
     "data": {
      "text/plain": [
       "Index(['store', 'day_of_week', 'date', 'sales', 'customers', 'open', 'promo',\n",
       "       'state_holiday', 'school_holiday', 'store_type', 'assortment',\n",
       "       'competition_distance', 'competition_open_since_month',\n",
       "       'competition_open_since_year', 'promo2', 'promo2_since_week',\n",
       "       'promo2_since_year', 'promo_interval'],\n",
       "      dtype='object')"
      ]
     },
     "execution_count": 24,
     "metadata": {},
     "output_type": "execute_result"
    }
   ],
   "source": [
    "df1.columns"
   ]
  },
  {
   "cell_type": "markdown",
   "metadata": {},
   "source": [
    "## 1.2 Data Dimensions"
   ]
  },
  {
   "cell_type": "code",
   "execution_count": 25,
   "metadata": {
    "ExecuteTime": {
     "end_time": "2022-10-12T12:13:25.972036Z",
     "start_time": "2022-10-12T12:13:25.968524Z"
    }
   },
   "outputs": [
    {
     "name": "stdout",
     "output_type": "stream",
     "text": [
      "Number of Rows: 1017209\n",
      "Number of columns: 18\n"
     ]
    }
   ],
   "source": [
    "print('Number of Rows: {}' .format(df1.shape[0]))\n",
    "print('Number of columns: {}' .format(df1.shape[1]))"
   ]
  },
  {
   "cell_type": "markdown",
   "metadata": {},
   "source": [
    "## 1.3 Data Types"
   ]
  },
  {
   "cell_type": "code",
   "execution_count": 26,
   "metadata": {
    "ExecuteTime": {
     "end_time": "2022-10-12T12:13:29.174517Z",
     "start_time": "2022-10-12T12:13:29.169400Z"
    }
   },
   "outputs": [
    {
     "data": {
      "text/plain": [
       "store                             int64\n",
       "day_of_week                       int64\n",
       "date                             object\n",
       "sales                             int64\n",
       "customers                         int64\n",
       "open                              int64\n",
       "promo                             int64\n",
       "state_holiday                    object\n",
       "school_holiday                    int64\n",
       "store_type                       object\n",
       "assortment                       object\n",
       "competition_distance            float64\n",
       "competition_open_since_month    float64\n",
       "competition_open_since_year     float64\n",
       "promo2                            int64\n",
       "promo2_since_week               float64\n",
       "promo2_since_year               float64\n",
       "promo_interval                   object\n",
       "dtype: object"
      ]
     },
     "execution_count": 26,
     "metadata": {},
     "output_type": "execute_result"
    }
   ],
   "source": [
    "df1.dtypes"
   ]
  },
  {
   "cell_type": "code",
   "execution_count": 27,
   "metadata": {
    "ExecuteTime": {
     "end_time": "2022-10-12T12:13:33.432293Z",
     "start_time": "2022-10-12T12:13:33.306142Z"
    }
   },
   "outputs": [
    {
     "data": {
      "text/plain": [
       "store                                    int64\n",
       "day_of_week                              int64\n",
       "date                            datetime64[ns]\n",
       "sales                                    int64\n",
       "customers                                int64\n",
       "open                                     int64\n",
       "promo                                    int64\n",
       "state_holiday                           object\n",
       "school_holiday                           int64\n",
       "store_type                              object\n",
       "assortment                              object\n",
       "competition_distance                   float64\n",
       "competition_open_since_month           float64\n",
       "competition_open_since_year            float64\n",
       "promo2                                   int64\n",
       "promo2_since_week                      float64\n",
       "promo2_since_year                      float64\n",
       "promo_interval                          object\n",
       "dtype: object"
      ]
     },
     "execution_count": 27,
     "metadata": {},
     "output_type": "execute_result"
    }
   ],
   "source": [
    "df1['date'] = pd.to_datetime(df1['date'])\n",
    "df1.dtypes"
   ]
  },
  {
   "cell_type": "markdown",
   "metadata": {},
   "source": [
    "## 1.4 Check NA"
   ]
  },
  {
   "cell_type": "code",
   "execution_count": 28,
   "metadata": {
    "ExecuteTime": {
     "end_time": "2022-10-12T12:13:40.430978Z",
     "start_time": "2022-10-12T12:13:40.225505Z"
    }
   },
   "outputs": [
    {
     "data": {
      "text/plain": [
       "store                                0\n",
       "day_of_week                          0\n",
       "date                                 0\n",
       "sales                                0\n",
       "customers                            0\n",
       "open                                 0\n",
       "promo                                0\n",
       "state_holiday                        0\n",
       "school_holiday                       0\n",
       "store_type                           0\n",
       "assortment                           0\n",
       "competition_distance              2642\n",
       "competition_open_since_month    323348\n",
       "competition_open_since_year     323348\n",
       "promo2                               0\n",
       "promo2_since_week               508031\n",
       "promo2_since_year               508031\n",
       "promo_interval                  508031\n",
       "dtype: int64"
      ]
     },
     "execution_count": 28,
     "metadata": {},
     "output_type": "execute_result"
    }
   ],
   "source": [
    "df1.isna().sum()"
   ]
  },
  {
   "cell_type": "markdown",
   "metadata": {},
   "source": [
    "## 1.5 Fillout NA"
   ]
  },
  {
   "cell_type": "code",
   "execution_count": 29,
   "metadata": {
    "ExecuteTime": {
     "end_time": "2022-10-12T12:13:46.307712Z",
     "start_time": "2022-10-12T12:13:46.299872Z"
    }
   },
   "outputs": [
    {
     "data": {
      "text/plain": [
       "75860.0"
      ]
     },
     "execution_count": 29,
     "metadata": {},
     "output_type": "execute_result"
    }
   ],
   "source": [
    "df1['competition_distance'].max()"
   ]
  },
  {
   "cell_type": "code",
   "execution_count": 30,
   "metadata": {
    "ExecuteTime": {
     "end_time": "2022-10-12T12:16:20.080010Z",
     "start_time": "2022-10-12T12:13:50.604493Z"
    },
    "code_folding": []
   },
   "outputs": [],
   "source": [
    "#competition_distance              2642\n",
    "df1['competition_distance'] = df1['competition_distance'].apply(lambda x: 200000 if math.isnan(x) else x)\n",
    "#competition_open_since_month    323348\n",
    "df1['competition_open_since_month'] = df1.apply( lambda x: x['date'].month if math.isnan(x['competition_open_since_month']) else x['competition_open_since_month'] , axis=1)\n",
    "                                                                                \n",
    "#competition_open_since_year     323348\n",
    "df1['competition_open_since_year'] = df1.apply( lambda x: x['date'].year if math.isnan(x['competition_open_since_year']) else x['competition_open_since_year'] , axis=1)\n",
    "#promo2_since_week               508031\n",
    "df1['promo2_since_week']  = df1.apply( lambda x: x['date'].week if math.isnan(x['promo2_since_week']) else x['promo2_since_week'] , axis=1)\n",
    "#promo2_since_year               508031\n",
    "df1['promo2_since_year']  = df1.apply( lambda x: x['date'].year if math.isnan(x['promo2_since_year']) else x['promo2_since_year'] , axis=1)\n",
    "\n",
    "#promo_interval                  508031\n",
    "\n",
    "month_map = {1:'Jan' , 2:'Fev' ,  3: 'Mar' ,  4:'Apr' ,  5:'Mai' ,  6:'Jun' , 7:'Jul' ,  8: 'Aug' ,  9:'Sep' , 10:'Oct' ,  11: 'Nov' ,  12:'Dec'}\n",
    "\n",
    "df1['promo_interval'].fillna(0, inplace=True)\n",
    "\n",
    "df1['month_map'] = df1['date'].dt.month.map( month_map )\n",
    "\n",
    "df1['is_promo'] = df1[['promo_interval' , 'month_map']].apply(lambda x: 0 if x['promo_interval']==0 else 1 if x['month_map'] in x['promo_interval'].split(',') else 0, axis=1)\n"
   ]
  },
  {
   "cell_type": "code",
   "execution_count": 31,
   "metadata": {
    "ExecuteTime": {
     "end_time": "2022-10-12T12:17:20.121066Z",
     "start_time": "2022-10-12T12:17:19.838700Z"
    }
   },
   "outputs": [
    {
     "data": {
      "text/plain": [
       "store                           0\n",
       "day_of_week                     0\n",
       "date                            0\n",
       "sales                           0\n",
       "customers                       0\n",
       "open                            0\n",
       "promo                           0\n",
       "state_holiday                   0\n",
       "school_holiday                  0\n",
       "store_type                      0\n",
       "assortment                      0\n",
       "competition_distance            0\n",
       "competition_open_since_month    0\n",
       "competition_open_since_year     0\n",
       "promo2                          0\n",
       "promo2_since_week               0\n",
       "promo2_since_year               0\n",
       "promo_interval                  0\n",
       "month_map                       0\n",
       "is_promo                        0\n",
       "dtype: int64"
      ]
     },
     "execution_count": 31,
     "metadata": {},
     "output_type": "execute_result"
    }
   ],
   "source": [
    "df1.isna().sum()"
   ]
  },
  {
   "cell_type": "markdown",
   "metadata": {},
   "source": [
    "## 1.6 Change Types"
   ]
  },
  {
   "cell_type": "code",
   "execution_count": 32,
   "metadata": {
    "ExecuteTime": {
     "end_time": "2022-10-12T12:17:50.168542Z",
     "start_time": "2022-10-12T12:17:50.162783Z"
    }
   },
   "outputs": [
    {
     "data": {
      "text/plain": [
       "store                                    int64\n",
       "day_of_week                              int64\n",
       "date                            datetime64[ns]\n",
       "sales                                    int64\n",
       "customers                                int64\n",
       "open                                     int64\n",
       "promo                                    int64\n",
       "state_holiday                           object\n",
       "school_holiday                           int64\n",
       "store_type                              object\n",
       "assortment                              object\n",
       "competition_distance                   float64\n",
       "competition_open_since_month           float64\n",
       "competition_open_since_year            float64\n",
       "promo2                                   int64\n",
       "promo2_since_week                      float64\n",
       "promo2_since_year                      float64\n",
       "promo_interval                          object\n",
       "month_map                               object\n",
       "is_promo                                 int64\n",
       "dtype: object"
      ]
     },
     "execution_count": 32,
     "metadata": {},
     "output_type": "execute_result"
    }
   ],
   "source": [
    "df1.dtypes"
   ]
  },
  {
   "cell_type": "code",
   "execution_count": 33,
   "metadata": {
    "ExecuteTime": {
     "end_time": "2022-10-12T12:17:57.622945Z",
     "start_time": "2022-10-12T12:17:57.583107Z"
    }
   },
   "outputs": [],
   "source": [
    "df1['competition_open_since_month'] = df1['competition_open_since_month'].astype(int)\n",
    "df1['competition_open_since_year'] = df1['competition_open_since_year'].astype(int)\n",
    "\n",
    "\n",
    "df1['promo2_since_week'] = df1['promo2_since_week'].astype(int)\n",
    "df1['promo2_since_year'] = df1['promo2_since_year'].astype(int)"
   ]
  },
  {
   "cell_type": "code",
   "execution_count": 34,
   "metadata": {
    "ExecuteTime": {
     "end_time": "2022-10-12T12:17:58.610737Z",
     "start_time": "2022-10-12T12:17:58.597341Z"
    }
   },
   "outputs": [
    {
     "data": {
      "text/plain": [
       "store                                    int64\n",
       "day_of_week                              int64\n",
       "date                            datetime64[ns]\n",
       "sales                                    int64\n",
       "customers                                int64\n",
       "open                                     int64\n",
       "promo                                    int64\n",
       "state_holiday                           object\n",
       "school_holiday                           int64\n",
       "store_type                              object\n",
       "assortment                              object\n",
       "competition_distance                   float64\n",
       "competition_open_since_month             int64\n",
       "competition_open_since_year              int64\n",
       "promo2                                   int64\n",
       "promo2_since_week                        int64\n",
       "promo2_since_year                        int64\n",
       "promo_interval                          object\n",
       "month_map                               object\n",
       "is_promo                                 int64\n",
       "dtype: object"
      ]
     },
     "execution_count": 34,
     "metadata": {},
     "output_type": "execute_result"
    }
   ],
   "source": [
    "df1.dtypes"
   ]
  },
  {
   "cell_type": "markdown",
   "metadata": {},
   "source": [
    "## 1.7 Descriptive Statistics"
   ]
  },
  {
   "cell_type": "code",
   "execution_count": 35,
   "metadata": {
    "ExecuteTime": {
     "end_time": "2022-10-12T12:18:04.383657Z",
     "start_time": "2022-10-12T12:18:04.252688Z"
    }
   },
   "outputs": [],
   "source": [
    "num_attributes = df1.select_dtypes(include=['int64' , 'float64'])\n",
    "cat_attributes = df1.select_dtypes(exclude=['int64' , 'float64' , 'datetime64[ns]'])"
   ]
  },
  {
   "cell_type": "markdown",
   "metadata": {},
   "source": [
    "### 1.7.1 Numerical Attributes"
   ]
  },
  {
   "cell_type": "code",
   "execution_count": 36,
   "metadata": {
    "ExecuteTime": {
     "end_time": "2022-10-12T12:18:10.504638Z",
     "start_time": "2022-10-12T12:18:06.484857Z"
    }
   },
   "outputs": [
    {
     "data": {
      "text/html": [
       "<div>\n",
       "<style scoped>\n",
       "    .dataframe tbody tr th:only-of-type {\n",
       "        vertical-align: middle;\n",
       "    }\n",
       "\n",
       "    .dataframe tbody tr th {\n",
       "        vertical-align: top;\n",
       "    }\n",
       "\n",
       "    .dataframe thead th {\n",
       "        text-align: right;\n",
       "    }\n",
       "</style>\n",
       "<table border=\"1\" class=\"dataframe\">\n",
       "  <thead>\n",
       "    <tr style=\"text-align: right;\">\n",
       "      <th></th>\n",
       "      <th>attributes</th>\n",
       "      <th>min</th>\n",
       "      <th>max</th>\n",
       "      <th>range</th>\n",
       "      <th>mean</th>\n",
       "      <th>median</th>\n",
       "      <th>std</th>\n",
       "      <th>skew</th>\n",
       "      <th>kurtosis</th>\n",
       "    </tr>\n",
       "  </thead>\n",
       "  <tbody>\n",
       "    <tr>\n",
       "      <th>0</th>\n",
       "      <td>store</td>\n",
       "      <td>1.0</td>\n",
       "      <td>1115.0</td>\n",
       "      <td>1114.0</td>\n",
       "      <td>558.429727</td>\n",
       "      <td>558.0</td>\n",
       "      <td>321.908493</td>\n",
       "      <td>-0.000955</td>\n",
       "      <td>-1.200524</td>\n",
       "    </tr>\n",
       "    <tr>\n",
       "      <th>1</th>\n",
       "      <td>day_of_week</td>\n",
       "      <td>1.0</td>\n",
       "      <td>7.0</td>\n",
       "      <td>6.0</td>\n",
       "      <td>3.998341</td>\n",
       "      <td>4.0</td>\n",
       "      <td>1.997390</td>\n",
       "      <td>0.001593</td>\n",
       "      <td>-1.246873</td>\n",
       "    </tr>\n",
       "    <tr>\n",
       "      <th>2</th>\n",
       "      <td>sales</td>\n",
       "      <td>0.0</td>\n",
       "      <td>41551.0</td>\n",
       "      <td>41551.0</td>\n",
       "      <td>5773.818972</td>\n",
       "      <td>5744.0</td>\n",
       "      <td>3849.924283</td>\n",
       "      <td>0.641460</td>\n",
       "      <td>1.778375</td>\n",
       "    </tr>\n",
       "    <tr>\n",
       "      <th>3</th>\n",
       "      <td>customers</td>\n",
       "      <td>0.0</td>\n",
       "      <td>7388.0</td>\n",
       "      <td>7388.0</td>\n",
       "      <td>633.145946</td>\n",
       "      <td>609.0</td>\n",
       "      <td>464.411506</td>\n",
       "      <td>1.598650</td>\n",
       "      <td>7.091773</td>\n",
       "    </tr>\n",
       "    <tr>\n",
       "      <th>4</th>\n",
       "      <td>open</td>\n",
       "      <td>0.0</td>\n",
       "      <td>1.0</td>\n",
       "      <td>1.0</td>\n",
       "      <td>0.830107</td>\n",
       "      <td>1.0</td>\n",
       "      <td>0.375539</td>\n",
       "      <td>-1.758045</td>\n",
       "      <td>1.090723</td>\n",
       "    </tr>\n",
       "    <tr>\n",
       "      <th>5</th>\n",
       "      <td>promo</td>\n",
       "      <td>0.0</td>\n",
       "      <td>1.0</td>\n",
       "      <td>1.0</td>\n",
       "      <td>0.381515</td>\n",
       "      <td>0.0</td>\n",
       "      <td>0.485758</td>\n",
       "      <td>0.487838</td>\n",
       "      <td>-1.762018</td>\n",
       "    </tr>\n",
       "    <tr>\n",
       "      <th>6</th>\n",
       "      <td>school_holiday</td>\n",
       "      <td>0.0</td>\n",
       "      <td>1.0</td>\n",
       "      <td>1.0</td>\n",
       "      <td>0.178647</td>\n",
       "      <td>0.0</td>\n",
       "      <td>0.383056</td>\n",
       "      <td>1.677842</td>\n",
       "      <td>0.815154</td>\n",
       "    </tr>\n",
       "    <tr>\n",
       "      <th>7</th>\n",
       "      <td>competition_distance</td>\n",
       "      <td>20.0</td>\n",
       "      <td>200000.0</td>\n",
       "      <td>199980.0</td>\n",
       "      <td>5935.442677</td>\n",
       "      <td>2330.0</td>\n",
       "      <td>12547.646829</td>\n",
       "      <td>10.242344</td>\n",
       "      <td>147.789712</td>\n",
       "    </tr>\n",
       "    <tr>\n",
       "      <th>8</th>\n",
       "      <td>competition_open_since_month</td>\n",
       "      <td>1.0</td>\n",
       "      <td>12.0</td>\n",
       "      <td>11.0</td>\n",
       "      <td>6.786849</td>\n",
       "      <td>7.0</td>\n",
       "      <td>3.311085</td>\n",
       "      <td>-0.042076</td>\n",
       "      <td>-1.232607</td>\n",
       "    </tr>\n",
       "    <tr>\n",
       "      <th>9</th>\n",
       "      <td>competition_open_since_year</td>\n",
       "      <td>1900.0</td>\n",
       "      <td>2015.0</td>\n",
       "      <td>115.0</td>\n",
       "      <td>2010.324840</td>\n",
       "      <td>2012.0</td>\n",
       "      <td>5.515591</td>\n",
       "      <td>-7.235657</td>\n",
       "      <td>124.071304</td>\n",
       "    </tr>\n",
       "    <tr>\n",
       "      <th>10</th>\n",
       "      <td>promo2</td>\n",
       "      <td>0.0</td>\n",
       "      <td>1.0</td>\n",
       "      <td>1.0</td>\n",
       "      <td>0.500564</td>\n",
       "      <td>1.0</td>\n",
       "      <td>0.500000</td>\n",
       "      <td>-0.002255</td>\n",
       "      <td>-1.999999</td>\n",
       "    </tr>\n",
       "    <tr>\n",
       "      <th>11</th>\n",
       "      <td>promo2_since_week</td>\n",
       "      <td>1.0</td>\n",
       "      <td>52.0</td>\n",
       "      <td>51.0</td>\n",
       "      <td>23.619033</td>\n",
       "      <td>22.0</td>\n",
       "      <td>14.310057</td>\n",
       "      <td>0.178723</td>\n",
       "      <td>-1.184046</td>\n",
       "    </tr>\n",
       "    <tr>\n",
       "      <th>12</th>\n",
       "      <td>promo2_since_year</td>\n",
       "      <td>2009.0</td>\n",
       "      <td>2015.0</td>\n",
       "      <td>6.0</td>\n",
       "      <td>2012.793297</td>\n",
       "      <td>2013.0</td>\n",
       "      <td>1.662657</td>\n",
       "      <td>-0.784436</td>\n",
       "      <td>-0.210075</td>\n",
       "    </tr>\n",
       "    <tr>\n",
       "      <th>13</th>\n",
       "      <td>is_promo</td>\n",
       "      <td>0.0</td>\n",
       "      <td>1.0</td>\n",
       "      <td>1.0</td>\n",
       "      <td>0.143345</td>\n",
       "      <td>0.0</td>\n",
       "      <td>0.350425</td>\n",
       "      <td>2.035562</td>\n",
       "      <td>2.143516</td>\n",
       "    </tr>\n",
       "  </tbody>\n",
       "</table>\n",
       "</div>"
      ],
      "text/plain": [
       "                      attributes     min       max     range         mean  \\\n",
       "0                          store     1.0    1115.0    1114.0   558.429727   \n",
       "1                    day_of_week     1.0       7.0       6.0     3.998341   \n",
       "2                          sales     0.0   41551.0   41551.0  5773.818972   \n",
       "3                      customers     0.0    7388.0    7388.0   633.145946   \n",
       "4                           open     0.0       1.0       1.0     0.830107   \n",
       "5                          promo     0.0       1.0       1.0     0.381515   \n",
       "6                 school_holiday     0.0       1.0       1.0     0.178647   \n",
       "7           competition_distance    20.0  200000.0  199980.0  5935.442677   \n",
       "8   competition_open_since_month     1.0      12.0      11.0     6.786849   \n",
       "9    competition_open_since_year  1900.0    2015.0     115.0  2010.324840   \n",
       "10                        promo2     0.0       1.0       1.0     0.500564   \n",
       "11             promo2_since_week     1.0      52.0      51.0    23.619033   \n",
       "12             promo2_since_year  2009.0    2015.0       6.0  2012.793297   \n",
       "13                      is_promo     0.0       1.0       1.0     0.143345   \n",
       "\n",
       "    median           std       skew    kurtosis  \n",
       "0    558.0    321.908493  -0.000955   -1.200524  \n",
       "1      4.0      1.997390   0.001593   -1.246873  \n",
       "2   5744.0   3849.924283   0.641460    1.778375  \n",
       "3    609.0    464.411506   1.598650    7.091773  \n",
       "4      1.0      0.375539  -1.758045    1.090723  \n",
       "5      0.0      0.485758   0.487838   -1.762018  \n",
       "6      0.0      0.383056   1.677842    0.815154  \n",
       "7   2330.0  12547.646829  10.242344  147.789712  \n",
       "8      7.0      3.311085  -0.042076   -1.232607  \n",
       "9   2012.0      5.515591  -7.235657  124.071304  \n",
       "10     1.0      0.500000  -0.002255   -1.999999  \n",
       "11    22.0     14.310057   0.178723   -1.184046  \n",
       "12  2013.0      1.662657  -0.784436   -0.210075  \n",
       "13     0.0      0.350425   2.035562    2.143516  "
      ]
     },
     "execution_count": 36,
     "metadata": {},
     "output_type": "execute_result"
    }
   ],
   "source": [
    "#Central Tendency - mean , median\n",
    "ct1 = pd.DataFrame(num_attributes.apply(np.mean)).T\n",
    "ct2 = pd.DataFrame(num_attributes.apply(np.median)).T\n",
    "\n",
    "\n",
    "#Dispersion - std , min , max , range , skew , kurtosis\n",
    "d1 = pd.DataFrame( num_attributes.apply(np.std)).T\n",
    "d2 = pd.DataFrame( num_attributes.apply(min)).T\n",
    "d3 = pd.DataFrame( num_attributes.apply(max)).T\n",
    "d4 = pd.DataFrame( num_attributes.apply( lambda x: x.max() - x.min() ) ).T\n",
    "d5 = pd.DataFrame( num_attributes.apply( lambda x: x.skew())).T\n",
    "d6 = pd.DataFrame( num_attributes.apply( lambda x: x.kurtosis() ) ).T\n",
    "\n",
    "m = pd.concat([d2,d3,d4,ct1,ct2,d1,d5,d6]).T.reset_index()\n",
    "m.columns = ['attributes','min','max','range','mean','median','std','skew','kurtosis',]\n",
    "m"
   ]
  },
  {
   "cell_type": "code",
   "execution_count": 37,
   "metadata": {
    "ExecuteTime": {
     "end_time": "2022-10-12T12:19:54.548229Z",
     "start_time": "2022-10-12T12:19:51.863659Z"
    }
   },
   "outputs": [
    {
     "data": {
      "text/plain": [
       "<matplotlib.axes._subplots.AxesSubplot at 0x7f3f74be2a00>"
      ]
     },
     "execution_count": 37,
     "metadata": {},
     "output_type": "execute_result"
    },
    {
     "data": {
      "image/png": "[encoded data removed]",
      "text/plain": [
       "<Figure size 432x288 with 1 Axes>"
      ]
     },
     "metadata": {
      "needs_background": "light"
     },
     "output_type": "display_data"
    }
   ],
   "source": [
    "sns.distplot(df1['sales'])"
   ]
  },
  {
   "cell_type": "code",
   "execution_count": 38,
   "metadata": {
    "ExecuteTime": {
     "end_time": "2022-10-12T12:20:14.671337Z",
     "start_time": "2022-10-12T12:20:11.958531Z"
    }
   },
   "outputs": [
    {
     "data": {
      "text/plain": [
       "<matplotlib.axes._subplots.AxesSubplot at 0x7f3f74be2700>"
      ]
     },
     "execution_count": 38,
     "metadata": {},
     "output_type": "execute_result"
    },
    {
     "data": {
      "image/png": "[encoded data removed]",
      "text/plain": [
       "<Figure size 432x288 with 1 Axes>"
      ]
     },
     "metadata": {
      "needs_background": "light"
     },
     "output_type": "display_data"
    }
   ],
   "source": [
    "sns.distplot(df1['competition_distance'])"
   ]
  },
  {
   "cell_type": "markdown",
   "metadata": {},
   "source": [
    "## 1.7.2 Categorical Attributes"
   ]
  },
  {
   "cell_type": "code",
   "execution_count": 40,
   "metadata": {
    "ExecuteTime": {
     "end_time": "2022-10-12T12:25:07.413183Z",
     "start_time": "2022-10-12T12:25:07.254379Z"
    }
   },
   "outputs": [
    {
     "data": {
      "text/plain": [
       "state_holiday      4\n",
       "store_type         4\n",
       "assortment         3\n",
       "promo_interval     4\n",
       "month_map         12\n",
       "dtype: int64"
      ]
     },
     "execution_count": 40,
     "metadata": {},
     "output_type": "execute_result"
    }
   ],
   "source": [
    "cat_attributes.apply( lambda x: x.unique().shape[0])"
   ]
  },
  {
   "cell_type": "code",
   "execution_count": 61,
   "metadata": {
    "ExecuteTime": {
     "end_time": "2022-10-12T12:43:42.336171Z",
     "start_time": "2022-10-12T12:43:21.043600Z"
    }
   },
   "outputs": [
    {
     "data": {
      "text/plain": [
       "<matplotlib.axes._subplots.AxesSubplot at 0x7f3f33567760>"
      ]
     },
     "execution_count": 61,
     "metadata": {},
     "output_type": "execute_result"
    },
    {
     "data": {
      "image/png": "[encoded data removed]",
      "text/plain": [
       "<Figure size 1800x864 with 3 Axes>"
      ]
     },
     "metadata": {},
     "output_type": "display_data"
    }
   ],
   "source": [
    "aux1 = df1[(df1['state_holiday'] != 0) & (df1['sales'] > 0)]\n",
    "\n",
    "plt.subplot(1,3,1)\n",
    "sns.boxplot(x = 'state_holiday' , y = 'sales' , data=aux1)\n",
    "\n",
    "plt.subplot(1,3,2)\n",
    "sns.boxplot(x = 'store_type' , y = 'sales' , data=aux1)\n",
    "\n",
    "plt.subplot(1,3,3)\n",
    "sns.boxplot(x = 'assortment' , y='sales' , data=aux1)"
   ]
  },
  {
   "cell_type": "code",
   "execution_count": 64,
   "metadata": {
    "ExecuteTime": {
     "end_time": "2022-10-12T12:46:09.376448Z",
     "start_time": "2022-10-12T12:45:42.864360Z"
    }
   },
   "outputs": [
    {
     "data": {
      "text/plain": [
       "<matplotlib.axes._subplots.AxesSubplot at 0x7f3f9c717d00>"
      ]
     },
     "execution_count": 64,
     "metadata": {},
     "output_type": "execute_result"
    },
    {
     "data": {
      "image/png": "[encoded data removed]",
      "text/plain": [
       "<Figure size 1800x864 with 3 Axes>"
      ]
     },
     "metadata": {},
     "output_type": "display_data"
    }
   ],
   "source": [
    "plt.subplot(1,3,1)\n",
    "sns.violinplot(x='state_holiday' , y='sales' , data=aux1)\n",
    "\n",
    "plt.subplot(1,3,2)\n",
    "sns.violinplot(x = 'store_type' , y='sales' , data=aux1)\n",
    "\n",
    "plt.subplot(1,3,3)\n",
    "sns.violinplot(x='assortment' , y = 'sales' , data=aux1)"
   ]
  },
  {
   "cell_type": "markdown",
   "metadata": {},
   "source": [
    "# 4.0 "
   ]
  },
  {
   "cell_type": "markdown",
   "metadata": {},
   "source": [
    "# 5.0 "
   ]
  },
  {
   "cell_type": "markdown",
   "metadata": {},
   "source": [
    "# 6.0 "
   ]
  },
  {
   "cell_type": "markdown",
   "metadata": {},
   "source": [
    "# 7.0 "
   ]
  },
  {
   "cell_type": "markdown",
   "metadata": {},
   "source": [
    "# 8.0 "
   ]
  }
 ],
 "metadata": {
  "kernelspec": {
   "display_name": "Python 3",
   "language": "python",
   "name": "python3"
  },
  "language_info": {
   "codemirror_mode": {
    "name": "ipython",
    "version": 3
   },
   "file_extension": ".py",
   "mimetype": "text/x-python",
   "name": "python",
   "nbconvert_exporter": "python",
   "pygments_lexer": "ipython3",
   "version": "3.8.9"
  }
 },
 "nbformat": 4,
 "nbformat_minor": 2
}
